{
 "cells": [
  {
   "cell_type": "markdown",
   "metadata": {},
   "source": [
    "# DeFi valuation Example"
   ]
  },
  {
   "cell_type": "markdown",
   "metadata": {},
   "source": [
    "## Uniswap v2 and clones \n"
   ]
  },
  {
   "cell_type": "markdown",
   "metadata": {},
   "source": [
    "This is notebook demos the potential valuation methodology for LP position in Uniswap V2 DEX. "
   ]
  },
  {
   "cell_type": "code",
   "execution_count": 10,
   "metadata": {},
   "outputs": [],
   "source": [
    "import json\n",
    "from web3 import Web3\n",
    "import requests\n",
    "from time import sleep\n",
    "from datetime import datetime\n",
    "\n",
    "#we are using FTX as price oracle - in the example I am making FTX is one of the most liquid markets (and we are assuming deposits are available)\n",
    "def last_price(symbol):\n",
    "    if symbol == 'WETH':\n",
    "        symbol = 'ETH'\n",
    "    res = requests.get(f'https://ftx.us/api/markets/{symbol}/USD').json()['result']['last']\n",
    "    return res\n",
    "\n",
    "#node provider - this a demo provider, I would suggest Point72 to deploy a node (so all infra are internal - no security breaches and point of failures)\n",
    "w3 = Web3(Web3.HTTPProvider('https://mainnet.infura.io/v3/d4fff350e2ad4993b8e067b25cb6f171'))\n",
    "\n",
    "#contracts ABI - to direclty interact with contracts \n",
    "with open('lp_abi.json') as json_file:\n",
    "    abi_lp = json.load(json_file)\n",
    "with open('erc_20_abi.json') as json_file:\n",
    "    erc_20_abi = json.load(json_file)\n",
    "    "
   ]
  },
  {
   "cell_type": "code",
   "execution_count": 15,
   "metadata": {},
   "outputs": [],
   "source": [
    "class pool:\n",
    "    def __init__(self, address):\n",
    "        self.address = address\n",
    "        self.pool_contr = w3.eth.contract(address, abi=abi_lp)\n",
    "\n",
    "        #fetch pool tokens addresses (eg. usdt:0xdAC17F958D2ee523a2206206994597C13D831ec7)\n",
    "        self.token0 = self.pool_contr.functions.token0().call()\n",
    "        self.token1 = self.pool_contr.functions.token1().call()\n",
    "\n",
    "        #create contract object \n",
    "        self.token0_contr = w3.eth.contract(self.token0, abi=erc_20_abi)\n",
    "        self.token1_contr = w3.eth.contract(self.token1, abi=erc_20_abi)\n",
    "\n",
    "        #fect tokens decimals\n",
    "        self.token0_decimals = self.token0_contr.functions.decimals().call()\n",
    "        self.token1_decimals = self.token1_contr.functions.decimals().call()\n",
    "\n",
    "        #fetch tokens symbols\n",
    "        self.token0_symbol = self.token0_contr.functions.symbol().call()\n",
    "        self.token1_symbol = self.token1_contr.functions.symbol().call()\n",
    "        \n",
    "        print(f'token0: {self.token0_symbol} - {self.token0}')\n",
    "        print(f'token1: {self.token1_symbol} - {self.token1}')\n",
    "        \n",
    "    def update(self, now):\n",
    "        #fetch LP total supply - normalize for decimals\n",
    "        self.total_supply = self.pool_contr.functions.totalSupply().call()/10**18\n",
    "\n",
    "        #calculate tokens liquidity - DEXes call it reserves\n",
    "        self.token0_reserves = self.pool_contr.functions.getReserves().call()[0]/10**self.token0_decimals\n",
    "        self.token1_reserves = self.pool_contr.functions.getReserves().call()[1]/10**self.token1_decimals\n",
    "\n",
    "        #calculate tokens last price - using FTX spot as oracle\n",
    "        self.token0_price = last_price(self.token0_symbol)\n",
    "        self.token1_price = last_price(self.token1_symbol)\n",
    "\n",
    "        #calculate pool market cap\n",
    "        self.pool_marketcap = (self.token0_reserves*self.token0_price) + (self.token1_reserves*self.token1_price)\n",
    "\n",
    "        #calculate LP value\n",
    "        self.lp_value = self.pool_marketcap/self.total_supply\n",
    "\n",
    "        print('--------------')\n",
    "        print(f'{now} - pool_market_cap: {self.pool_marketcap: .2f},  LP supply: {self.total_supply: .2f}')\n",
    "        print(f'{now} - Total LP supply is {self.total_supply: .2f}, pool market cap is {self.pool_marketcap: .2f}, dollar value of 0.01 LP is {self.lp_value/100: .2f}')\n",
    "        \n",
    "        return self.lp_value"
   ]
  },
  {
   "cell_type": "code",
   "execution_count": 19,
   "metadata": {},
   "outputs": [
    {
     "name": "stdout",
     "output_type": "stream",
     "text": [
      "token0: WETH - 0xC02aaA39b223FE8D0A0e5C4F27eAD9083C756Cc2\n",
      "token1: USDT - 0xdAC17F958D2ee523a2206206994597C13D831ec7\n",
      "--------------\n",
      "18:36:19 - pool_market_cap:  34026538.07,  LP supply:  0.20\n",
      "18:36:19 - Total LP supply is  0.20, pool market cap is  34026538.07, dollar value of 0.01 LP is  1725850.70\n",
      "--------------\n",
      "18:36:25 - pool_market_cap:  34026546.30,  LP supply:  0.20\n",
      "18:36:25 - Total LP supply is  0.20, pool market cap is  34026546.30, dollar value of 0.01 LP is  1725851.12\n",
      "--------------\n",
      "18:36:32 - pool_market_cap:  34028642.01,  LP supply:  0.20\n",
      "18:36:32 - Total LP supply is  0.20, pool market cap is  34028642.01, dollar value of 0.01 LP is  1725957.42\n",
      "--------------\n",
      "18:36:38 - pool_market_cap:  34025498.44,  LP supply:  0.20\n",
      "18:36:38 - Total LP supply is  0.20, pool market cap is  34025498.44, dollar value of 0.01 LP is  1725797.97\n"
     ]
    },
    {
     "ename": "KeyboardInterrupt",
     "evalue": "",
     "output_type": "error",
     "traceback": [
      "\u001b[1;31m---------------------------------------------------------------------------\u001b[0m",
      "\u001b[1;31mKeyboardInterrupt\u001b[0m                         Traceback (most recent call last)",
      "\u001b[1;32m<ipython-input-19-01783b1cf20f>\u001b[0m in \u001b[0;36m<module>\u001b[1;34m\u001b[0m\n\u001b[0;32m      9\u001b[0m \u001b[1;33m\u001b[0m\u001b[0m\n\u001b[0;32m     10\u001b[0m     \u001b[0mpool_inst\u001b[0m\u001b[1;33m.\u001b[0m\u001b[0mupdate\u001b[0m\u001b[1;33m(\u001b[0m\u001b[0mnow\u001b[0m\u001b[1;33m)\u001b[0m\u001b[1;33m\u001b[0m\u001b[1;33m\u001b[0m\u001b[0m\n\u001b[1;32m---> 11\u001b[1;33m     \u001b[0msleep\u001b[0m\u001b[1;33m(\u001b[0m\u001b[1;36m5\u001b[0m\u001b[1;33m)\u001b[0m\u001b[1;33m\u001b[0m\u001b[1;33m\u001b[0m\u001b[0m\n\u001b[0m\u001b[0;32m     12\u001b[0m \u001b[1;33m\u001b[0m\u001b[0m\n",
      "\u001b[1;31mKeyboardInterrupt\u001b[0m: "
     ]
    }
   ],
   "source": [
    "#contract addresses - everything (tokens, symbols) can be retrieved just by pool contract - this makes the methodology highly scalable:\n",
    "eth_usdt = '0x0d4a11d5EEaaC28EC3F61d100daF4d40471f1852'\n",
    "\n",
    "pool_inst = pool(eth_usdt)\n",
    "\n",
    "#update every 5 seconds LP token value\n",
    "while True:\n",
    "    now = datetime.now().strftime(\"%H:%M:%S\")\n",
    "\n",
    "    pool_inst.update(now)\n",
    "    sleep(5)\n",
    "\n"
   ]
  },
  {
   "cell_type": "code",
   "execution_count": null,
   "metadata": {},
   "outputs": [],
   "source": []
  },
  {
   "cell_type": "code",
   "execution_count": null,
   "metadata": {},
   "outputs": [],
   "source": []
  }
 ],
 "metadata": {
  "kernelspec": {
   "display_name": "Python 3",
   "language": "python",
   "name": "python3"
  }
 },
 "nbformat": 4,
 "nbformat_minor": 4
}
