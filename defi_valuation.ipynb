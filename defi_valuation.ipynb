{
 "cells": [
  {
   "cell_type": "markdown",
   "metadata": {},
   "source": [
    "# DeFi valuation Example"
   ]
  },
  {
   "cell_type": "markdown",
   "metadata": {},
   "source": [
    "## Uniswap v2 and clones \n"
   ]
  },
  {
   "cell_type": "markdown",
   "metadata": {},
   "source": [
    "This is notebook demos the potential valuation methodology for LP position in Uniswap V2 DEX. "
   ]
  },
  {
   "cell_type": "code",
   "execution_count": 164,
   "metadata": {},
   "outputs": [],
   "source": [
    "import json\n",
    "from web3 import Web3\n",
    "import requests\n",
    "\n",
    "#we are using FTX as price oracle - in the example I am making FTX is one of the most liquid markets (and we are assuming deposits are available)\n",
    "def last_price(symbol):\n",
    "    if symbol == 'WETH':\n",
    "        symbol = 'ETH'\n",
    "    res = requests.get(f'https://ftx.us/api/markets/{symbol}/USD').json()['result']['last']\n",
    "    return res\n",
    "\n",
    "#node provider - this a demo provider, I would suggest Point72 to deploy a node (so all infra are internal - no security breaches and point of failures)\n",
    "w3 = Web3(Web3.HTTPProvider('https://mainnet.infura.io/v3/d4fff350e2ad4993b8e067b25cb6f171'))\n",
    "\n",
    "#contracts ABI - to direclty interact with contracts \n",
    "with open('lp_abi.json') as json_file:\n",
    "    abi_lp = json.load(json_file)\n",
    "with open('erc_20_abi.json') as json_file:\n",
    "    erc_20_abi = json.load(json_file)\n",
    "    "
   ]
  },
  {
   "cell_type": "code",
   "execution_count": 162,
   "metadata": {},
   "outputs": [],
   "source": [
    "class pool:\n",
    "    def __init__(self, address):\n",
    "        self.address = address\n",
    "        self.pool_contr = w3.eth.contract(address, abi=abi_lp)\n",
    "\n",
    "        #fetch LP total supply - normalize for decimals\n",
    "        self.total_supply = self.pool_contr.functions.totalSupply().call()/10**18\n",
    "\n",
    "        #fetch pool tokens addresses (eg. usdt:0xdAC17F958D2ee523a2206206994597C13D831ec7)\n",
    "        self.token0 = self.pool_contr.functions.token0().call()\n",
    "        self.token1 = self.pool_contr.functions.token1().call()\n",
    "\n",
    "        #create contract object \n",
    "        self.token0_contr = w3.eth.contract(self.token0, abi=erc_20_abi)\n",
    "        self.token1_contr = w3.eth.contract(self.token1, abi=erc_20_abi)\n",
    "\n",
    "        #fect tokens decimals\n",
    "        self.token0_decimals = self.token0_contr.functions.decimals().call()\n",
    "        self.token1_decimals = self.token1_contr.functions.decimals().call()\n",
    "\n",
    "        #fetch tokens symbols\n",
    "        self.token0_symbol = self.token0_contr.functions.symbol().call()\n",
    "        self.token1_symbol = self.token1_contr.functions.symbol().call()\n",
    "\n",
    "        #calculate tokens liquidity - DEXes call it reserves\n",
    "        self.token0_reserves = self.pool_contr.functions.getReserves().call()[0]/10**self.token0_decimals\n",
    "        self.token1_reserves = self.pool_contr.functions.getReserves().call()[1]/10**self.token1_decimals\n",
    "\n",
    "        #calculate tokens last price - using FTX spot as oracle\n",
    "        self.token0_price = last_price(self.token0_symbol)\n",
    "        self.token1_price = last_price(self.token1_symbol)\n",
    "        \n",
    "        #calculate pool market cap\n",
    "        self.pool_marketcap = (self.token0_reserves*self.token0_price) + (self.token1_reserves*self.token1_price)\n",
    "        \n",
    "        print(f'token0: {self.token0_symbol} - {self.token0} - reserves {self.token0_reserves} - price: {self.token0_price}')\n",
    "        print(f'token1: {self.token1_symbol} - {self.token1} - reserves {self.token1_reserves} - price: {self.token1_price}')\n",
    "        print(f'pool_market_cap: {pool_marketcap},  LP supply: {self.total_supply}')\n",
    "        print('--------------')"
   ]
  },
  {
   "cell_type": "code",
   "execution_count": 163,
   "metadata": {},
   "outputs": [
    {
     "name": "stdout",
     "output_type": "stream",
     "text": [
      "token0: WETH - 0xC02aaA39b223FE8D0A0e5C4F27eAD9083C756Cc2 - reserves 10636.432380125983 - price: 1591.4\n",
      "token1: USDT - 0xdAC17F958D2ee523a2206206994597C13D831ec7 - reserves 16917877.026554 - price: 1.0001\n",
      "pool_market_cap: 33849563.615291454,  LP supply: 0.19826554183113831\n",
      "--------------\n",
      "Total LP supply is 0.19826554183113831, pool market cap is 33846387.30398914, dollar value of 0.01 LP is 1707124.0413937347\n"
     ]
    }
   ],
   "source": [
    "#contract addresses - everything (tokens, symbols) can be retrieved just by pool contract - this makes the methodology highly scalable:\n",
    "eth_usdt = '0x0d4a11d5EEaaC28EC3F61d100daF4d40471f1852'\n",
    "\n",
    "pool_inst = pool(eth_usdt)\n",
    "\n",
    "lp_value = pool_inst.pool_marketcap/pool_inst.total_supply\n",
    "\n",
    "print(f'Total LP supply is {pool_inst.total_supply}, pool market cap is {pool_inst.pool_marketcap}, dollar value of 0.01 LP is {lp_value/100}')"
   ]
  },
  {
   "cell_type": "code",
   "execution_count": null,
   "metadata": {},
   "outputs": [],
   "source": []
  },
  {
   "cell_type": "code",
   "execution_count": null,
   "metadata": {},
   "outputs": [],
   "source": []
  }
 ],
 "metadata": {
  "kernelspec": {
   "display_name": "Python 3",
   "language": "python",
   "name": "python3"
  },
  "language_info": {
   "codemirror_mode": {
    "name": "ipython",
    "version": 3
   },
   "file_extension": ".py",
   "mimetype": "text/x-python",
   "name": "python",
   "nbconvert_exporter": "python",
   "pygments_lexer": "ipython3",
   "version": "3.8.5"
  }
 },
 "nbformat": 4,
 "nbformat_minor": 4
}
